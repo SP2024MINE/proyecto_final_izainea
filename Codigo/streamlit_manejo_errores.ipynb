{
 "cells": [
  {
   "cell_type": "markdown",
   "id": "e034cc31",
   "metadata": {},
   "source": [
    "# Seminario de programación\n",
    "*Carlos Isaac Zainea*  \n",
    "2024\n",
    "\n",
    "## Mostrar y Manejar Errores\n",
    "### Objetivo\n",
    "En esta sección, vamos a explicar cómo manejar posibles errores tanto en la comunicación con la API como dentro de la propia aplicación de Streamlit.\n"
   ]
  },
  {
   "cell_type": "markdown",
   "id": "3e9c8ffb",
   "metadata": {},
   "source": [
    "### Errores Comunes y su Manejo\n",
    "A continuación, se muestran algunos errores comunes que pueden ocurrir al usar una API y al trabajar con Streamlit, así como posibles formas de manejar estos errores."
   ]
  },
  {
   "cell_type": "markdown",
   "id": "36b2916b",
   "metadata": {},
   "source": [
    "| Tipo de Error                    | Descripción                                          | Manejo de Errores                  |\n",
    "|---------------------------------|------------------------------------------------------|------------------------------------|\n",
    "| **Errores de API (HTTP)**       | La API devuelve un código de error como 404 o 500.   | Mostrar el código y mensaje de error. Usar `try` y `except` para capturar. |\n",
    "| **Timeouts de API**             | La solicitud a la API tarda demasiado en responder.  | Usar un timeout en `requests`. Mostrar mensaje de timeout.                 |\n",
    "| **Conexión fallida a la API**   | No hay conexión a la API o falla la red.             | Usar `requests.exceptions.RequestException`. Mostrar mensaje amigable.    |\n",
    "| **Errores de lógica en Streamlit** | Errores en el flujo de datos o en funciones mal definidas. | Usar `try` y `except`. Revisar la lógica de cada bloque de código.       |\n",
    "| **Errores en la interfaz de Streamlit** | Elementos que no aparecen como se espera o fallan al renderizar. | Usar `st.write()` para debug. Añadir mensajes intermedios.              |\n",
    "| **Errores de tipo (TypeError)** | Tipo de dato no esperado o no soportado en el formulario. | Verificar tipo de entrada con `type()`. Usar `try-except`.             |\n",
    "| **Problemas de Depuración**     | No se muestran mensajes claros de error.            | Usar el modo `debug` en Streamlit para ver mensajes detallados.         |\n"
   ]
  },
  {
   "cell_type": "markdown",
   "id": "5462d4ae",
   "metadata": {},
   "source": [
    "### Cómo Usar `debug` en Streamlit\n",
    "Para depurar errores y ver mensajes más detallados en su aplicación de Streamlit, pueden usar el comando de ejecución con modo debug:\n",
    "\n",
    "```bash\n",
    "streamlit run app.py --server.debug=true\n",
    "```\n",
    "Este modo mostrará mensajes de error más detallados en la consola y permitirá identificar problemas específicos en el código."
   ]
  },
  {
   "cell_type": "markdown",
   "id": "9698eb50",
   "metadata": {},
   "source": [
    "### Manejo de Errores con la API\n",
    "A continuación, se muestra un ejemplo de manejo de errores usando `try` y `except` cuando se realiza una solicitud a una API:\n",
    "\n",
    "```python\n",
    "import streamlit as st\n",
    "import pandas as pd\n",
    "import requests\n",
    "\n",
    "# URL de la API\n",
    "api_url = \"https://your-api-url.com/predict\"\n",
    "\n",
    "# Botón para enviar y calcular\n",
    "if st.button(\"Calcular resultado\"):\n",
    "    # Crear datos de ejemplo (esto se debe cambiar por los datos capturados por el formulario)\n",
    "    data = {\n",
    "        'age': [39],\n",
    "        'workclass': [\"State-gov\"],\n",
    "        'education': [\"Masters\"],\n",
    "        'marital-status': [\"Married-civ-spouse\"],\n",
    "        'occupation': [\"Adm-clerical\"],\n",
    "        'relationship': [\"Husband\"],\n",
    "        'race': [\"White\"],\n",
    "        'sex': [\"Male\"],\n",
    "        'capital-gain': [2174],\n",
    "        'capital-loss': [0],\n",
    "        'hours-per-week': [40],\n",
    "        'native-country': [\"United-States\"]\n",
    "    }\n",
    "\n",
    "    # Convertir los datos a JSON\n",
    "    df = pd.DataFrame(data)\n",
    "    data_json = df.to_json(orient=\"records\")\n",
    "\n",
    "    # Manejo de errores con try-except\n",
    "    try:\n",
    "        # Realizar una solicitud POST a la API\n",
    "        response = requests.post(api_url, json=data_json)\n",
    "\n",
    "        # Si la solicitud fue exitosa (código 200)\n",
    "        if response.status_code == 200:\n",
    "            st.write(\"Resultado de la predicción:\")\n",
    "            st.write(response.json())\n",
    "\n",
    "        # Manejar respuestas con códigos de error HTTP\n",
    "        else:\n",
    "            st.write(f\"Error en la solicitud: Código {response.status_code}\")\n",
    "            st.write(f\"Mensaje de error: {response.text}\")\n",
    "\n",
    "    # Manejar errores de conexión o solicitudes mal formadas\n",
    "    except requests.exceptions.RequestException as e:\n",
    "        st.write(\"Ocurrió un error al realizar la solicitud a la API.\")\n",
    "        st.write(f\"Detalles del error: {e}\")\n",
    "\n",
    "    # Manejo de cualquier otro error inesperado\n",
    "    except Exception as e:\n",
    "        st.write(\"Ocurrió un error inesperado.\")\n",
    "        st.write(f\"Detalles del error: {e}\")\n",
    "```\n",
    "Este código incluye el manejo de errores HTTP, fallas de conexión y cualquier error inesperado."
   ]
  }
 ],
 "metadata": {
  "language_info": {
   "name": "python"
  }
 },
 "nbformat": 4,
 "nbformat_minor": 5
}
