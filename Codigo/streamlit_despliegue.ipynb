{
 "cells": [
  {
   "cell_type": "markdown",
   "id": "dc6de1f5",
   "metadata": {},
   "source": [
    "# Seminario de programación\n",
    "*Carlos Isaac Zainea*  \n",
    "2024\n",
    "\n",
    "## Despliegue y Uso Compartido de la Webapp\n"
   ]
  },
  {
   "cell_type": "markdown",
   "id": "2fea2e5f",
   "metadata": {},
   "source": [
    "### Objetivo\n",
    "El objetivo de este módulo es explicar cómo desplegar la webapp para que otros puedan acceder y usarla, y aprender tanto el despliegue local como el despliegue en la nube usando herramientas como Streamlit Cloud y Heroku."
   ]
  },
  {
   "cell_type": "markdown",
   "id": "c30fa7cd",
   "metadata": {},
   "source": [
    "## Despliegue Local con Streamlit\n",
    "\n",
    "#### Preparación\n",
    "Antes de desplegar la aplicación localmente, asegúrense de que todos los archivos de la webapp estén en un mismo directorio. Esto incluirá:\n",
    "- El archivo principal de la aplicación (`app.py`).\n",
    "- Cualquier archivo de configuración, como el archivo `requirements.txt` o el archivo `pyproject.toml` si están usando `poetry`.\n",
    "#### Ejecución de la aplicación localmente\n",
    "Para correr la aplicación, simplemente deben ejecutar el comando desde la terminal dentro del directorio de la aplicación:\n",
    "```bash\n",
    "streamlit run app.py\n",
    "```\n",
    "Esto abrirá la aplicación en su navegador en la dirección `http://localhost:8501/`. Si tienen problemas con el puerto, pueden especificar uno diferente usando:\n",
    "```bash\n",
    "streamlit run app.py --server.port 8502\n",
    "```\n",
    "#### Revisión y pruebas\n",
    "Cuando ejecuten la aplicación localmente:\n",
    "- Revisen que todos los componentes de la webapp se desplieguen correctamente.\n",
    "- Realicen pruebas de todas las interacciones del formulario y asegúrense de que los datos se envían correctamente a la API.\n",
    "- Si encuentran errores, pueden usar el modo `debug` para identificar problemas con mayor detalle:\n",
    "```bash\n",
    "streamlit run app.py --server.debug=true\n",
    "```"
   ]
  },
  {
   "cell_type": "markdown",
   "id": "669123ae",
   "metadata": {},
   "source": [
    "## Despliegue en la nube\n",
    "\n",
    "#### ¿Por qué desplegar en la nube?\n",
    "El despliegue en la nube les permite compartir la webapp con otras personas sin requerir que ellos instalen ninguna dependencia localmente. Además, esto facilita el acceso a la aplicación desde cualquier dispositivo conectado a internet."
   ]
  },
  {
   "cell_type": "markdown",
   "id": "cb75ac3b",
   "metadata": {},
   "source": [
    "### Opción 1: Streamlit Cloud\n",
    "\n",
    "Streamlit Cloud es una plataforma creada por los desarrolladores de Streamlit que permite desplegar aplicaciones de forma fácil y gratuita (con limitaciones). A continuación, se detalla el proceso de despliegue:\n",
    "\n",
    "#### Crear una cuenta y conectar un repositorio\n",
    "1. **Crear una cuenta**: Diríjanse a [Streamlit Cloud](https://streamlit.io/cloud) y creen una cuenta (pueden usar su cuenta de GitHub para agilizar el proceso).\n",
    "2. **Conectar un repositorio Git**: Suban su proyecto de Streamlit a un repositorio de GitHub. Asegúrense de incluir:\n",
    "   - El archivo principal de la aplicación (`app.py`).\n",
    "   - Un archivo `requirements.txt` con las dependencias necesarias para la aplicación.\n",
    "   Si están usando `poetry`, pueden generar un archivo `requirements.txt` con:\n",
    "   ```bash\n",
    "   poetry export -f requirements.txt --output requirements.txt\n",
    "   ```\n",
    "3. **Desplegar la aplicación**: Desde Streamlit Cloud, conecten su cuenta de GitHub y seleccionen el repositorio donde está la aplicación. Streamlit se encargará de desplegar y mantener la aplicación automáticamente.\n",
    "\n",
    "#### Configuración y despliegue\n",
    "- **Configurar variables de entorno**: Si su aplicación requiere alguna variable de entorno (como tokens de acceso a APIs), pueden configurarlas directamente en el panel de Streamlit Cloud.\n",
    "- **Monitorización**: Una vez desplegada la aplicación, pueden monitorizar su uso y rendimiento desde el panel de control."
   ]
  },
  {
   "cell_type": "markdown",
   "id": "0b907ede",
   "metadata": {},
   "source": [
    "### Opción 2: Despliegue en Heroku\n",
    "\n",
    "Heroku es una plataforma de despliegue versátil que soporta una gran variedad de lenguajes y frameworks, incluyendo Streamlit. A continuación, se detallan los pasos para desplegar en Heroku:\n",
    "\n",
    "#### Crear una cuenta y preparar la aplicación\n",
    "1. **Crear una cuenta**: Diríjanse a [Heroku](https://www.heroku.com/) y creen una cuenta.\n",
    "2. **Instalar la CLI de Heroku**: Instalen la herramienta de línea de comandos de Heroku, necesaria para subir la aplicación:\n",
    "   ```bash\n",
    "   curl https://cli-assets.heroku.com/install.sh | sh\n",
    "   ```\n",
    "3. **Crear un archivo `Procfile`**: Este archivo indica a Heroku cómo ejecutar la aplicación. El contenido típico para una aplicación de Streamlit sería:\n",
    "   ```\n",
    "   web: streamlit run app.py\n",
    "   ```\n",
    "\n",
    "#### Subir la aplicación a Heroku\n",
    "1. **Inicializar el repositorio Git**: Asegúrense de que la aplicación está en un repositorio Git.\n",
    "   ```bash\n",
    "   git init\n",
    "   git add .\n",
    "   git commit -m \"Initial commit\"\n",
    "   ```\n",
    "2. **Crear la aplicación en Heroku**:\n",
    "   ```bash\n",
    "   heroku create nombre-de-su-aplicacion\n",
    "   ```\n",
    "   Esto creará una nueva aplicación en Heroku y generará una URL donde la aplicación será desplegada.\n",
    "3. **Subir el código a Heroku**:\n",
    "   ```bash\n",
    "   git push heroku main\n",
    "   ```\n",
    "\n",
    "#### Acceder a la aplicación\n",
    "Una vez que se complete el despliegue, Heroku les proporcionará una URL pública donde podrán ver y compartir su aplicación.\n",
    "\n",
    "#### Configuración y mantenimiento\n",
    "- **Escalado y rendimiento**: Heroku permite escalar la aplicación según la demanda.\n",
    "- **Configuración de variables de entorno**: Si es necesario, pueden configurar variables de entorno para su aplicación con el comando:\n",
    "   ```bash\n",
    "   heroku config:set VAR_NAME=value\n",
    "   ```"
   ]
  },
  {
   "cell_type": "markdown",
   "id": "45f2b783",
   "metadata": {},
   "source": [
    "## Consejos adicionales para el despliegue\n",
    "- **Seguridad**: Asegúrense de no incluir información sensible (como tokens de acceso) directamente en el código fuente.\n",
    "- **Optimización de recursos**: Si la aplicación usa muchos recursos (como memoria o CPU), revisen si es posible optimizar el código o escalar los recursos asignados.\n",
    "- **Mantenimiento y actualizaciones**: Cada vez que hagan un cambio en la webapp, pueden volver a hacer un `push` al repositorio (Streamlit Cloud o Heroku) para que los cambios se reflejen en la aplicación desplegada."
   ]
  }
 ],
 "metadata": {
  "language_info": {
   "name": "python"
  }
 },
 "nbformat": 4,
 "nbformat_minor": 5
}
