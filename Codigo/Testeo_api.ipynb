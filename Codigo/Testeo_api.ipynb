{
 "cells": [
  {
   "cell_type": "code",
   "execution_count": 1,
   "metadata": {},
   "outputs": [],
   "source": [
    "import requests"
   ]
  },
  {
   "cell_type": "code",
   "execution_count": 8,
   "metadata": {},
   "outputs": [
    {
     "name": "stdout",
     "output_type": "stream",
     "text": [
      "Solicitud exitosa. Respuesta: {'prediction': 'Menos de 50K'}\n"
     ]
    }
   ],
   "source": [
    "import requests\n",
    "\n",
    "def realizar_solicitud_post(url, datos, headers=None):\n",
    "    \"\"\"\n",
    "    Realiza una solicitud POST a una URL específica.\n",
    "\n",
    "    Parámetros:\n",
    "    - url (str): La URL del endpoint de la API.\n",
    "    - datos (dict): Un diccionario con los datos que se enviarán en el cuerpo de la solicitud.\n",
    "    - headers (dict, opcional): Un diccionario con los headers de la solicitud, como Authorization.\n",
    "\n",
    "    Retorna:\n",
    "    - Una tupla (bool, dict/str): El primer elemento indica si la solicitud fue exitosa (True) o no (False).\n",
    "      El segundo elemento es la respuesta de la API convertida en un diccionario si es posible, o la respuesta cruda en caso de error.\n",
    "    \"\"\"\n",
    "    try:\n",
    "        response = requests.post(url, json=datos, headers=headers)\n",
    "        response.raise_for_status()  # Esto lanzará una excepción si la solicitud falla\n",
    "        try:\n",
    "            return True, response.json()  # Intenta devolver como JSON\n",
    "        except ValueError:\n",
    "            return True, response.text  # Devuelve como texto si no se puede convertir a JSON\n",
    "    except requests.RequestException as e:\n",
    "        return False, str(e)  # Devuelve False y el error si la solicitud falló\n",
    "\n",
    "# Ejemplo de uso\n",
    "url = 'http://127.0.0.1:8000/predict/'\n",
    "datos_json = {'age': [25], 'workclass': ['State-gov'], 'education': ['Bachelors'], 'marital-status': ['Married-civ-spouse'], 'occupation': ['Adm-clerical'], 'relationship': ['Husband'],'race': ['White'],'sex':['Male'],'capital-gain':[0],'capital-loss':[0],'hours-per-week':[40],'native-country':['United-States']}\n",
    "#headers = {'Authorization': 'Bearer tu_token_aqui'}\n",
    "\n",
    "exito, respuesta = realizar_solicitud_post(url, datos_json)\n",
    "\n",
    "if exito:\n",
    "    print('Solicitud exitosa. Respuesta:', respuesta)\n",
    "else:\n",
    "    print('Error en la solicitud:', respuesta)"
   ]
  },
  {
   "cell_type": "code",
   "execution_count": null,
   "metadata": {},
   "outputs": [],
   "source": []
  }
 ],
 "metadata": {
  "kernelspec": {
   "display_name": "proyecto_final",
   "language": "python",
   "name": "python3"
  },
  "language_info": {
   "codemirror_mode": {
    "name": "ipython",
    "version": 3
   },
   "file_extension": ".py",
   "mimetype": "text/x-python",
   "name": "python",
   "nbconvert_exporter": "python",
   "pygments_lexer": "ipython3",
   "version": "3.12.4"
  }
 },
 "nbformat": 4,
 "nbformat_minor": 2
}
