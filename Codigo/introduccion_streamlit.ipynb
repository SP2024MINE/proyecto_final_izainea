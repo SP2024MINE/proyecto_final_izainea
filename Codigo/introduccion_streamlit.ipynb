{
 "cells": [
  {
   "cell_type": "markdown",
   "id": "b2d0f9e7",
   "metadata": {},
   "source": [
    "# Seminario de programación\n",
    "*Carlos Isaac Zainea*  \n",
    "2024\n"
   ]
  },
  {
   "cell_type": "markdown",
   "id": "01f6feaf",
   "metadata": {},
   "source": [
    "## Introducción a Streamlit\n",
    "Streamlit es una biblioteca de Python que permite crear aplicaciones web interactivas con facilidad. Es muy útil para desarrollar y desplegar rápidamente dashboards o interfaces para proyectos de datos y machine learning sin necesidad de conocimientos avanzados de desarrollo web."
   ]
  },
  {
   "cell_type": "markdown",
   "id": "6babd798",
   "metadata": {},
   "source": [
    "## Instalación de Streamlit con `poetry`\n",
    "Usaremos `poetry` para gestionar las dependencias. Instalamos Streamlit como dependencia:\n",
    "\n",
    "```bash\n",
    "poetry add streamlit\n",
    "```\n",
    "Para activar el entorno virtual creado por `poetry` y ejecutar Streamlit, usamos:\n",
    "\n",
    "```bash\n",
    "poetry shell\n",
    "streamlit run app.py\n",
    "```"
   ]
  },
  {
   "cell_type": "markdown",
   "id": "2e5bb62b",
   "metadata": {},
   "source": [
    "## Primeros pasos: \"Hello, Streamlit!\"\n",
    "Comencemos con un ejemplo sencillo para probar Streamlit. Crea un archivo llamado `app.py` con el siguiente contenido:"
   ]
  },
  {
   "cell_type": "code",
   "execution_count": null,
   "id": "dc87f8ad",
   "metadata": {},
   "outputs": [],
   "source": [
    "!poetry add streamlit"
   ]
  },
  {
   "cell_type": "code",
   "execution_count": null,
   "id": "78e43cc0",
   "metadata": {},
   "outputs": [],
   "source": [
    "import streamlit as st\n",
    "\n",
    "st.title(\"Hello, Streamlit!\")\n",
    "st.write(\"¡Este es nuestro primer ejemplo usando Streamlit!\")\n",
    "\n",
    "# Agregar un slider\n",
    "number = st.slider(\"Elige un número\", 0, 100)\n",
    "st.write(f\"El número seleccionado es {number}\")"
   ]
  },
  {
   "cell_type": "markdown",
   "id": "026a175d",
   "metadata": {},
   "source": [
    "## Estructura básica de una aplicación Streamlit\n",
    "- `st.title()`: Muestra un título en la aplicación.\n",
    "- `st.write()`: Es el método genérico para mostrar texto, markdown, y otros elementos en la aplicación.\n",
    "- Widgets interactivos como `st.slider()`, `st.text_input()`, `st.selectbox()`, etc., permiten capturar datos de entrada del usuario."
   ]
  },
  {
   "cell_type": "markdown",
   "id": "14fcc973",
   "metadata": {},
   "source": [
    "## Añadir interactividad: Widgets\n",
    "Vamos a añadir más widgets para ver cómo interactúan con la aplicación:"
   ]
  },
  {
   "cell_type": "code",
   "execution_count": null,
   "id": "ae4a8a5f",
   "metadata": {},
   "outputs": [],
   "source": [
    "import streamlit as st\n",
    "\n",
    "st.title(\"Interactividad con Streamlit\")\n",
    "\n",
    "# Slider para elegir un rango de números\n",
    "range_values = st.slider(\"Selecciona un rango de valores\", 0, 100, (25, 75))\n",
    "st.write(f\"El rango seleccionado es: {range_values}\")\n",
    "\n",
    "# Input de texto\n",
    "nombre = st.text_input(\"¿Cómo te llamas?\")\n",
    "if nombre:\n",
    "    st.write(f\"¡Hola, {nombre}!\")\n",
    "\n",
    "# Selector de opciones\n",
    "opcion = st.selectbox(\"Selecciona tu lenguaje de programación favorito\", [\"Python\", \"JavaScript\", \"R\", \"Java\"])\n",
    "st.write(f\"Has seleccionado: {opcion}\")"
   ]
  },
  {
   "cell_type": "markdown",
   "id": "ca455402",
   "metadata": {},
   "source": [
    "## Mostrar datos y gráficos\n",
    "Streamlit también permite mostrar dataframes y gráficos de forma sencilla. Veamos un ejemplo con gráficos usando `matplotlib` y `pandas`:"
   ]
  },
  {
   "cell_type": "code",
   "execution_count": null,
   "id": "61954602",
   "metadata": {},
   "outputs": [],
   "source": [
    "import streamlit as st\n",
    "import pandas as pd\n",
    "import matplotlib.pyplot as plt\n",
    "\n",
    "st.title(\"Visualización de Datos con Streamlit\")\n",
    "\n",
    "# Crear un dataframe de ejemplo\n",
    "data = pd.DataFrame({\n",
    "    \"Números\": range(1, 11),\n",
    "    \"Valores\": [10, 20, 15, 25, 30, 35, 45, 40, 55, 50]\n",
    "})\n",
    "\n",
    "# Mostrar el dataframe\n",
    "st.write(\"Aquí está el dataframe de ejemplo:\")\n",
    "st.dataframe(data)\n",
    "\n",
    "# Crear un gráfico de línea\n",
    "fig, ax = plt.subplots()\n",
    "ax.plot(data[\"Números\"], data[\"Valores\"])\n",
    "ax.set_title(\"Gráfico de línea\")\n",
    "ax.set_xlabel(\"Números\")\n",
    "ax.set_ylabel(\"Valores\")\n",
    "\n",
    "# Mostrar el gráfico en Streamlit\n",
    "st.pyplot(fig)"
   ]
  },
  {
   "cell_type": "markdown",
   "id": "24a26c21",
   "metadata": {},
   "source": [
    "## Organización de la aplicación\n",
    "Streamlit también ofrece diferentes maneras de organizar la aplicación, como columnas y contenedores:"
   ]
  },
  {
   "cell_type": "code",
   "execution_count": null,
   "id": "f0535ee0",
   "metadata": {},
   "outputs": [],
   "source": [
    "import streamlit as st\n",
    "\n",
    "st.title(\"Organización con Columnas y Contenedores\")\n",
    "\n",
    "# Crear dos columnas\n",
    "col1, col2 = st.columns(2)\n",
    "\n",
    "with col1:\n",
    "    st.write(\"Contenido de la columna 1\")\n",
    "    st.button(\"Botón en Columna 1\")\n",
    "\n",
    "with col2:\n",
    "    st.write(\"Contenido de la columna 2\")\n",
    "    st.button(\"Botón en Columna 2\")"
   ]
  },
  {
   "cell_type": "markdown",
   "id": "3911b653",
   "metadata": {},
   "source": [
    "## Recursos y documentación\n",
    "- [Página oficial de Streamlit](https://streamlit.io/)\n",
    "- [Documentación de Streamlit](https://docs.streamlit.io/)\n",
    "- [Lista completa de widgets](https://docs.streamlit.io/library/api-reference/widgets)"
   ]
  }
 ],
 "metadata": {
  "kernelspec": {
   "display_name": "proyecto_final",
   "language": "python",
   "name": "python3"
  },
  "language_info": {
   "codemirror_mode": {
    "name": "ipython",
    "version": 3
   },
   "file_extension": ".py",
   "mimetype": "text/x-python",
   "name": "python",
   "nbconvert_exporter": "python",
   "pygments_lexer": "ipython3",
   "version": "3.12.4"
  }
 },
 "nbformat": 4,
 "nbformat_minor": 5
}
